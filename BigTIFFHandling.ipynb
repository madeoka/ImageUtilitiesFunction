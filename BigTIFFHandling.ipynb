{
 "cells": [
  {
   "cell_type": "code",
   "execution_count": 1,
   "metadata": {},
   "outputs": [],
   "source": [
    "import rasterio\n",
    "import matplotlib.pyplot as plt\n",
    "import numpy as np"
   ]
  },
  {
   "cell_type": "code",
   "execution_count": 2,
   "metadata": {},
   "outputs": [],
   "source": [
    "ImageFolderPath = \"./Images/\""
   ]
  },
  {
   "cell_type": "code",
   "execution_count": 3,
   "metadata": {},
   "outputs": [],
   "source": [
    "# function converting channels/Bands last to Channels first \n",
    "def convertHWCToCHW(img):\n",
    "    return (img.transpose(2,0,1))\n",
    "# function to set profile argument in case they are not given\n",
    "def setProfile(**kwrgs):\n",
    "    default  = {\n",
    "    'driver': 'GTiff',\n",
    "    'interleave': 'band',\n",
    "    'tiled': True,\n",
    "    'blockxsize': 32,\n",
    "    'blockysize': 32,\n",
    "    'compress': 'lzw',\n",
    "    'nodata': 0,\n",
    "    'dtype': np.uint8,\n",
    "    **kwrgs\n",
    "    }\n",
    "    return default\n",
    "# writing Big tiff file\n",
    "def writeBigTIFF(img,profile=None, name='newBigTIFF'): \n",
    "    if profile is None:\n",
    "        from rasterio.profiles import DefaultGTiffProfile\n",
    "        height,width,bands=img.shape \n",
    "        profile = setProfile(height=height,width=width,count=bands)\n",
    "        print(profile)\n",
    "    with rasterio.open(name+'.tif','w',BigTiff='YES',**profile) as BigTiff:\n",
    "        return (BigTiff.write(convertHWCToCHW(img)))\n",
    "# reading TiFF file including BigTiff and returning image as well as its' profile\n",
    "def readTIFF(imgPath):\n",
    "    with rasterio.open(imgPath,mode='r+') as classicTiff:\n",
    "        img = classicTiff.read()\n",
    "        #Here we are transposing to convert the read output from CxHxW to HxWxC (compatible with matplotlib)\n",
    "        img = img.transpose(1,2,0)\n",
    "        return img,classicTiff.profile"
   ]
  },
  {
   "cell_type": "markdown",
   "metadata": {},
   "source": [
    "# Reading simple '.tif/.tiff' file"
   ]
  },
  {
   "cell_type": "code",
   "execution_count": 4,
   "metadata": {},
   "outputs": [
    {
     "name": "stderr",
     "output_type": "stream",
     "text": [
      "/Library/Frameworks/Python.framework/Versions/3.6/lib/python3.6/site-packages/rasterio/__init__.py:218: NotGeoreferencedWarning: Dataset has no geotransform set. The identity matrix may be returned.\n",
      "  s = get_writer_for_path(path)(path, mode, driver=driver, **kwargs)\n"
     ]
    },
    {
     "data": {
      "image/png": "[encoded data removed]",
      "text/plain": [
       "<Figure size 432x288 with 1 Axes>"
      ]
     },
     "metadata": {
      "needs_background": "light"
     },
     "output_type": "display_data"
    }
   ],
   "source": [
    "filePath = ImageFolderPath+'Classic.tif'\n",
    "img,profile = readTIFF(filePath)\n",
    "plt.imshow(img)\n",
    "plt.show()"
   ]
  },
  {
   "cell_type": "code",
   "execution_count": 5,
   "metadata": {},
   "outputs": [
    {
     "name": "stderr",
     "output_type": "stream",
     "text": [
      "/Library/Frameworks/Python.framework/Versions/3.6/lib/python3.6/site-packages/rasterio/__init__.py:225: NotGeoreferencedWarning: The given matrix is equal to Affine.identity or its flipped counterpart. GDAL may ignore this matrix and save no geotransform without raising an error. This behavior is somewhat driver-specific.\n",
      "  **kwargs)\n"
     ]
    },
    {
     "data": {
      "image/png": "[encoded data removed]",
      "text/plain": [
       "<Figure size 432x288 with 1 Axes>"
      ]
     },
     "metadata": {
      "needs_background": "light"
     },
     "output_type": "display_data"
    }
   ],
   "source": [
    "writeBigTIFF(img,profile,name=ImageFolderPath+\"BigTIFFSample\")\n",
    "img,profile = readTIFF(ImageFolderPath+'BigTIFFSample.tif')\n",
    "plt.imshow(img)\n",
    "plt.show()"
   ]
  }
 ],
 "metadata": {
  "kernelspec": {
   "display_name": "Python 3",
   "language": "python",
   "name": "python3"
  },
  "language_info": {
   "codemirror_mode": {
    "name": "ipython",
    "version": 3
   },
   "file_extension": ".py",
   "mimetype": "text/x-python",
   "name": "python",
   "nbconvert_exporter": "python",
   "pygments_lexer": "ipython3",
   "version": "3.6.5"
  }
 },
 "nbformat": 4,
 "nbformat_minor": 2
}
